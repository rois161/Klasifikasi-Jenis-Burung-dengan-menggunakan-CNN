{
  "cells": [
    {
      "cell_type": "code",
      "execution_count": null,
      "metadata": {
        "colab": {
          "base_uri": "https://localhost:8080/",
          "height": 389
        },
        "id": "XCA6ch8EGH-F",
        "outputId": "c57623f6-c840-4b0a-c2bd-b25b431858ec"
      },
      "outputs": [
        {
          "output_type": "stream",
          "name": "stdout",
          "text": [
            "Collecting anvil-uplink\n",
            "  Downloading anvil_uplink-0.5.2-py2.py3-none-any.whl.metadata (1.4 kB)\n",
            "Collecting argparse (from anvil-uplink)\n",
            "  Downloading argparse-1.4.0-py2.py3-none-any.whl.metadata (2.8 kB)\n",
            "Requirement already satisfied: future in /usr/local/lib/python3.11/dist-packages (from anvil-uplink) (1.0.0)\n",
            "Requirement already satisfied: six in /usr/local/lib/python3.11/dist-packages (from anvil-uplink) (1.17.0)\n",
            "Collecting ws4py-sslupdate (from anvil-uplink)\n",
            "  Downloading ws4py_sslupdate-0.5.1b0-py2.py3-none-any.whl.metadata (1.7 kB)\n",
            "Downloading anvil_uplink-0.5.2-py2.py3-none-any.whl (97 kB)\n",
            "\u001b[2K   \u001b[90m━━━━━━━━━━━━━━━━━━━━━━━━━━━━━━━━━━━━━━━━\u001b[0m \u001b[32m97.9/97.9 kB\u001b[0m \u001b[31m7.9 MB/s\u001b[0m eta \u001b[36m0:00:00\u001b[0m\n",
            "\u001b[?25hDownloading argparse-1.4.0-py2.py3-none-any.whl (23 kB)\n",
            "Downloading ws4py_sslupdate-0.5.1b0-py2.py3-none-any.whl (45 kB)\n",
            "\u001b[2K   \u001b[90m━━━━━━━━━━━━━━━━━━━━━━━━━━━━━━━━━━━━━━━━\u001b[0m \u001b[32m45.8/45.8 kB\u001b[0m \u001b[31m4.3 MB/s\u001b[0m eta \u001b[36m0:00:00\u001b[0m\n",
            "\u001b[?25hInstalling collected packages: ws4py-sslupdate, argparse, anvil-uplink\n",
            "Successfully installed anvil-uplink-0.5.2 argparse-1.4.0 ws4py-sslupdate-0.5.1b0\n"
          ]
        },
        {
          "output_type": "display_data",
          "data": {
            "application/vnd.colab-display-data+json": {
              "pip_warning": {
                "packages": [
                  "argparse",
                  "google"
                ]
              },
              "id": "913b02304fe84ca2b48eee0f7f873c08"
            }
          },
          "metadata": {}
        }
      ],
      "source": [
        "!pip install anvil-uplink"
      ]
    },
    {
      "cell_type": "code",
      "execution_count": null,
      "metadata": {
        "id": "ZevH-XOjUgZ4"
      },
      "outputs": [],
      "source": [
        "import anvil.server"
      ]
    },
    {
      "cell_type": "code",
      "execution_count": null,
      "metadata": {
        "colab": {
          "base_uri": "https://localhost:8080/"
        },
        "id": "pAjqnFy_UlYU",
        "outputId": "41763d42-20c0-4842-cd50-3f8d068ae217"
      },
      "outputs": [
        {
          "output_type": "stream",
          "name": "stdout",
          "text": [
            "Disconnecting from previous connection first...\n",
            "Connecting to wss://anvil.works/uplink\n",
            "Anvil websocket open\n",
            "Connected to \"Default Environment\" as SERVER\n"
          ]
        }
      ],
      "source": [
        "anvil.server.connect(\"server_HY5LXYU4CT55Q7RWFCGTODZV-PW3FAWZMWJJWCTDA\")"
      ]
    },
    {
      "cell_type": "code",
      "execution_count": null,
      "metadata": {
        "colab": {
          "base_uri": "https://localhost:8080/"
        },
        "id": "fifJyEWEU2uO",
        "outputId": "cbdf1d9f-4b30-4fca-d668-7785fb57adf0"
      },
      "outputs": [
        {
          "output_type": "stream",
          "name": "stdout",
          "text": [
            "Done\n"
          ]
        }
      ],
      "source": [
        "from zipfile import ZipFile\n",
        "file_name = \"/content/drive/MyDrive/Colab Notebooks/Burung.zip\"\n",
        "\n",
        "with ZipFile(file_name, 'r') as zip:\n",
        "  zip.extractall()\n",
        "  print('Done')"
      ]
    },
    {
      "cell_type": "code",
      "execution_count": null,
      "metadata": {
        "colab": {
          "base_uri": "https://localhost:8080/"
        },
        "id": "yFz6wiQUgunk",
        "outputId": "b22c8d41-354e-494c-f927-9ebbf8577b3a"
      },
      "outputs": [
        {
          "output_type": "stream",
          "name": "stdout",
          "text": [
            "Menyalin 63 gambar dari 'AMERICAN COOT' ke folder validasi.\n",
            "Menyalin 72 gambar dari 'ABBOTTS BOOBY' ke folder validasi.\n",
            "Menyalin 62 gambar dari 'AFRICAN OYSTER CATCHER' ke folder validasi.\n",
            "Menyalin 71 gambar dari 'AMERICAN AVOCET' ke folder validasi.\n",
            "Menyalin 66 gambar dari 'ALPINE CHOUGH' ke folder validasi.\n",
            "Menyalin 66 gambar dari 'ABBOTTS BABBLER' ke folder validasi.\n",
            "Menyalin 54 gambar dari 'AFRICAN CROWNED CRANE' ke folder validasi.\n",
            "Menyalin 64 gambar dari 'ALBERTS TOWHEE' ke folder validasi.\n",
            "Menyalin 54 gambar dari 'AFRICAN FIREFINCH' ke folder validasi.\n",
            "Menyalin 53 gambar dari 'AMERICAN GOLDFINCH' ke folder validasi.\n",
            "Menyalin 61 gambar dari 'AFRICAN EMERALD CUCKOO' ke folder validasi.\n",
            "Menyalin 65 gambar dari 'AMERICAN FLAMINGO' ke folder validasi.\n",
            "Menyalin 71 gambar dari 'AFRICAN PYGMY GOOSE' ke folder validasi.\n",
            "Menyalin 53 gambar dari 'ALBATROSS' ke folder validasi.\n",
            "Menyalin 66 gambar dari 'ALEXANDRINE PARAKEET' ke folder validasi.\n",
            "Menyalin 60 gambar dari 'ALTAMIRA YELLOWTHROAT' ke folder validasi.\n",
            "Menyalin 74 gambar dari 'AFRICAN PIED HORNBILL' ke folder validasi.\n",
            "Menyalin 71 gambar dari 'ABYSSINIAN GROUND HORNBILL' ke folder validasi.\n",
            "Menyalin 68 gambar dari 'AMERICAN BITTERN' ke folder validasi.\n",
            "Menyalin 62 gambar dari 'AMERICAN KESTREL' ke folder validasi.\n",
            "Penyalinan selesai ✅\n"
          ]
        }
      ],
      "source": [
        "import os\n",
        "import random\n",
        "import shutil\n",
        "\n",
        "# Path direktori\n",
        "base_dir = \"/content/Burung\"\n",
        "train_dir = os.path.join(base_dir, \"train\")\n",
        "valid_dir = os.path.join(base_dir, \"valid\")\n",
        "\n",
        "# Persentase data yang disalin ke validasi\n",
        "valid_split = 0.4\n",
        "\n",
        "# Untuk setiap kelas di folder train\n",
        "for class_name in os.listdir(train_dir):\n",
        "    class_train_path = os.path.join(train_dir, class_name)\n",
        "    class_valid_path = os.path.join(valid_dir, class_name)\n",
        "\n",
        "    if not os.path.isdir(class_train_path):\n",
        "        continue\n",
        "\n",
        "    # Buat folder validasi per kelas jika belum ada\n",
        "    os.makedirs(class_valid_path, exist_ok=True)\n",
        "\n",
        "    # Ambil semua file gambar dalam kelas\n",
        "    all_images = os.listdir(class_train_path)\n",
        "    random.shuffle(all_images)\n",
        "\n",
        "    # Hitung jumlah yang akan disalin\n",
        "    n_valid = int(len(all_images) * valid_split)\n",
        "    valid_images = all_images[:n_valid]\n",
        "\n",
        "    # Salin gambar ke folder valid\n",
        "    for img_name in valid_images:\n",
        "        src = os.path.join(class_train_path, img_name)\n",
        "        dst = os.path.join(class_valid_path, img_name)\n",
        "        shutil.copy2(src, dst)  # copy2 menjaga metadata file (tanggal, dll)\n",
        "\n",
        "    print(f\"Menyalin {n_valid} gambar dari '{class_name}' ke folder validasi.\")\n",
        "\n",
        "print(\"Penyalinan selesai ✅\")"
      ]
    },
    {
      "cell_type": "code",
      "execution_count": null,
      "metadata": {
        "colab": {
          "base_uri": "https://localhost:8080/",
          "height": 1000
        },
        "id": "d4x9WLC5ZhNX",
        "outputId": "dc6a9b3c-b59f-411d-b9e1-a82f27a0bf58"
      },
      "outputs": [
        {
          "output_type": "stream",
          "name": "stdout",
          "text": [
            "Label kelas: ['ABBOTTS BABBLER', 'ABBOTTS BOOBY', 'ABYSSINIAN GROUND HORNBILL', 'AFRICAN CROWNED CRANE', 'AFRICAN EMERALD CUCKOO', 'AFRICAN FIREFINCH', 'AFRICAN OYSTER CATCHER', 'AFRICAN PIED HORNBILL', 'AFRICAN PYGMY GOOSE', 'ALBATROSS', 'ALBERTS TOWHEE', 'ALEXANDRINE PARAKEET', 'ALPINE CHOUGH', 'ALTAMIRA YELLOWTHROAT', 'AMERICAN AVOCET', 'AMERICAN BITTERN', 'AMERICAN COOT', 'AMERICAN FLAMINGO', 'AMERICAN GOLDFINCH', 'AMERICAN KESTREL']\n",
            "Epoch 1/30\n",
            "\u001b[1m71/71\u001b[0m \u001b[32m━━━━━━━━━━━━━━━━━━━━\u001b[0m\u001b[37m\u001b[0m \u001b[1m11s\u001b[0m 85ms/step - accuracy: 0.1636 - loss: 2.5732 - val_accuracy: 0.0031 - val_loss: 12.0783\n",
            "Epoch 2/30\n",
            "\u001b[1m71/71\u001b[0m \u001b[32m━━━━━━━━━━━━━━━━━━━━\u001b[0m\u001b[37m\u001b[0m \u001b[1m1s\u001b[0m 17ms/step - accuracy: 0.4602 - loss: 1.5445 - val_accuracy: 0.0021 - val_loss: 16.3812\n",
            "Epoch 3/30\n",
            "\u001b[1m71/71\u001b[0m \u001b[32m━━━━━━━━━━━━━━━━━━━━\u001b[0m\u001b[37m\u001b[0m \u001b[1m1s\u001b[0m 16ms/step - accuracy: 0.6214 - loss: 1.1039 - val_accuracy: 0.0031 - val_loss: 13.6345\n",
            "Epoch 4/30\n",
            "\u001b[1m71/71\u001b[0m \u001b[32m━━━━━━━━━━━━━━━━━━━━\u001b[0m\u001b[37m\u001b[0m \u001b[1m1s\u001b[0m 17ms/step - accuracy: 0.7562 - loss: 0.7623 - val_accuracy: 0.0031 - val_loss: 17.7933\n",
            "Epoch 5/30\n",
            "\u001b[1m71/71\u001b[0m \u001b[32m━━━━━━━━━━━━━━━━━━━━\u001b[0m\u001b[37m\u001b[0m \u001b[1m1s\u001b[0m 17ms/step - accuracy: 0.8336 - loss: 0.5254 - val_accuracy: 0.0021 - val_loss: 22.5077\n",
            "Epoch 6/30\n",
            "\u001b[1m71/71\u001b[0m \u001b[32m━━━━━━━━━━━━━━━━━━━━\u001b[0m\u001b[37m\u001b[0m \u001b[1m1s\u001b[0m 15ms/step - accuracy: 0.9029 - loss: 0.2923 - val_accuracy: 0.0021 - val_loss: 29.0781\n",
            "Epoch 7/30\n",
            "\u001b[1m71/71\u001b[0m \u001b[32m━━━━━━━━━━━━━━━━━━━━\u001b[0m\u001b[37m\u001b[0m \u001b[1m1s\u001b[0m 15ms/step - accuracy: 0.8884 - loss: 0.3787 - val_accuracy: 0.0031 - val_loss: 25.7820\n",
            "Epoch 8/30\n",
            "\u001b[1m71/71\u001b[0m \u001b[32m━━━━━━━━━━━━━━━━━━━━\u001b[0m\u001b[37m\u001b[0m \u001b[1m1s\u001b[0m 17ms/step - accuracy: 0.9615 - loss: 0.1185 - val_accuracy: 0.0031 - val_loss: 32.4006\n",
            "Epoch 9/30\n",
            "\u001b[1m71/71\u001b[0m \u001b[32m━━━━━━━━━━━━━━━━━━━━\u001b[0m\u001b[37m\u001b[0m \u001b[1m1s\u001b[0m 20ms/step - accuracy: 0.9900 - loss: 0.0393 - val_accuracy: 0.0031 - val_loss: 38.1331\n",
            "Epoch 10/30\n",
            "\u001b[1m71/71\u001b[0m \u001b[32m━━━━━━━━━━━━━━━━━━━━\u001b[0m\u001b[37m\u001b[0m \u001b[1m2s\u001b[0m 16ms/step - accuracy: 0.9976 - loss: 0.0124 - val_accuracy: 0.0031 - val_loss: 32.9717\n",
            "Epoch 11/30\n",
            "\u001b[1m71/71\u001b[0m \u001b[32m━━━━━━━━━━━━━━━━━━━━\u001b[0m\u001b[37m\u001b[0m \u001b[1m1s\u001b[0m 18ms/step - accuracy: 0.9941 - loss: 0.0252 - val_accuracy: 0.0031 - val_loss: 42.9099\n",
            "Epoch 12/30\n",
            "\u001b[1m71/71\u001b[0m \u001b[32m━━━━━━━━━━━━━━━━━━━━\u001b[0m\u001b[37m\u001b[0m \u001b[1m1s\u001b[0m 18ms/step - accuracy: 0.9931 - loss: 0.0227 - val_accuracy: 0.0031 - val_loss: 42.7093\n",
            "Epoch 13/30\n",
            "\u001b[1m71/71\u001b[0m \u001b[32m━━━━━━━━━━━━━━━━━━━━\u001b[0m\u001b[37m\u001b[0m \u001b[1m1s\u001b[0m 15ms/step - accuracy: 1.0000 - loss: 0.0020 - val_accuracy: 0.0031 - val_loss: 43.8151\n",
            "Epoch 14/30\n",
            "\u001b[1m71/71\u001b[0m \u001b[32m━━━━━━━━━━━━━━━━━━━━\u001b[0m\u001b[37m\u001b[0m \u001b[1m1s\u001b[0m 17ms/step - accuracy: 1.0000 - loss: 0.0011 - val_accuracy: 0.0031 - val_loss: 46.8873\n",
            "Epoch 15/30\n",
            "\u001b[1m71/71\u001b[0m \u001b[32m━━━━━━━━━━━━━━━━━━━━\u001b[0m\u001b[37m\u001b[0m \u001b[1m1s\u001b[0m 18ms/step - accuracy: 1.0000 - loss: 5.4715e-04 - val_accuracy: 0.0031 - val_loss: 48.8651\n",
            "Epoch 16/30\n",
            "\u001b[1m71/71\u001b[0m \u001b[32m━━━━━━━━━━━━━━━━━━━━\u001b[0m\u001b[37m\u001b[0m \u001b[1m1s\u001b[0m 17ms/step - accuracy: 1.0000 - loss: 3.7795e-04 - val_accuracy: 0.0031 - val_loss: 50.3149\n",
            "Epoch 17/30\n",
            "\u001b[1m71/71\u001b[0m \u001b[32m━━━━━━━━━━━━━━━━━━━━\u001b[0m\u001b[37m\u001b[0m \u001b[1m1s\u001b[0m 16ms/step - accuracy: 1.0000 - loss: 3.0309e-04 - val_accuracy: 0.0031 - val_loss: 51.5433\n",
            "Epoch 18/30\n",
            "\u001b[1m71/71\u001b[0m \u001b[32m━━━━━━━━━━━━━━━━━━━━\u001b[0m\u001b[37m\u001b[0m \u001b[1m1s\u001b[0m 18ms/step - accuracy: 1.0000 - loss: 2.7550e-04 - val_accuracy: 0.0031 - val_loss: 52.5336\n",
            "Epoch 19/30\n",
            "\u001b[1m71/71\u001b[0m \u001b[32m━━━━━━━━━━━━━━━━━━━━\u001b[0m\u001b[37m\u001b[0m \u001b[1m3s\u001b[0m 18ms/step - accuracy: 1.0000 - loss: 2.2433e-04 - val_accuracy: 0.0031 - val_loss: 53.4266\n",
            "Epoch 20/30\n",
            "\u001b[1m71/71\u001b[0m \u001b[32m━━━━━━━━━━━━━━━━━━━━\u001b[0m\u001b[37m\u001b[0m \u001b[1m1s\u001b[0m 16ms/step - accuracy: 1.0000 - loss: 1.9824e-04 - val_accuracy: 0.0031 - val_loss: 54.2222\n",
            "Epoch 21/30\n",
            "\u001b[1m71/71\u001b[0m \u001b[32m━━━━━━━━━━━━━━━━━━━━\u001b[0m\u001b[37m\u001b[0m \u001b[1m1s\u001b[0m 16ms/step - accuracy: 1.0000 - loss: 1.7184e-04 - val_accuracy: 0.0031 - val_loss: 55.0686\n",
            "Epoch 22/30\n",
            "\u001b[1m71/71\u001b[0m \u001b[32m━━━━━━━━━━━━━━━━━━━━\u001b[0m\u001b[37m\u001b[0m \u001b[1m1s\u001b[0m 15ms/step - accuracy: 1.0000 - loss: 1.5944e-04 - val_accuracy: 0.0031 - val_loss: 55.8491\n",
            "Epoch 23/30\n",
            "\u001b[1m71/71\u001b[0m \u001b[32m━━━━━━━━━━━━━━━━━━━━\u001b[0m\u001b[37m\u001b[0m \u001b[1m1s\u001b[0m 16ms/step - accuracy: 1.0000 - loss: 1.4445e-04 - val_accuracy: 0.0031 - val_loss: 56.5289\n",
            "Epoch 24/30\n",
            "\u001b[1m71/71\u001b[0m \u001b[32m━━━━━━━━━━━━━━━━━━━━\u001b[0m\u001b[37m\u001b[0m \u001b[1m1s\u001b[0m 17ms/step - accuracy: 1.0000 - loss: 1.2161e-04 - val_accuracy: 0.0031 - val_loss: 57.0378\n",
            "Epoch 25/30\n",
            "\u001b[1m71/71\u001b[0m \u001b[32m━━━━━━━━━━━━━━━━━━━━\u001b[0m\u001b[37m\u001b[0m \u001b[1m1s\u001b[0m 16ms/step - accuracy: 1.0000 - loss: 1.1881e-04 - val_accuracy: 0.0031 - val_loss: 57.7062\n",
            "Epoch 26/30\n",
            "\u001b[1m71/71\u001b[0m \u001b[32m━━━━━━━━━━━━━━━━━━━━\u001b[0m\u001b[37m\u001b[0m \u001b[1m1s\u001b[0m 17ms/step - accuracy: 1.0000 - loss: 9.5002e-05 - val_accuracy: 0.0031 - val_loss: 58.2569\n",
            "Epoch 27/30\n",
            "\u001b[1m71/71\u001b[0m \u001b[32m━━━━━━━━━━━━━━━━━━━━\u001b[0m\u001b[37m\u001b[0m \u001b[1m3s\u001b[0m 19ms/step - accuracy: 1.0000 - loss: 8.6536e-05 - val_accuracy: 0.0031 - val_loss: 58.6907\n",
            "Epoch 28/30\n",
            "\u001b[1m71/71\u001b[0m \u001b[32m━━━━━━━━━━━━━━━━━━━━\u001b[0m\u001b[37m\u001b[0m \u001b[1m1s\u001b[0m 17ms/step - accuracy: 1.0000 - loss: 9.0600e-05 - val_accuracy: 0.0031 - val_loss: 59.1410\n",
            "Epoch 29/30\n",
            "\u001b[1m71/71\u001b[0m \u001b[32m━━━━━━━━━━━━━━━━━━━━\u001b[0m\u001b[37m\u001b[0m \u001b[1m3s\u001b[0m 18ms/step - accuracy: 1.0000 - loss: 8.0379e-05 - val_accuracy: 0.0031 - val_loss: 59.7473\n",
            "Epoch 30/30\n",
            "\u001b[1m71/71\u001b[0m \u001b[32m━━━━━━━━━━━━━━━━━━━━\u001b[0m\u001b[37m\u001b[0m \u001b[1m1s\u001b[0m 17ms/step - accuracy: 1.0000 - loss: 7.0754e-05 - val_accuracy: 0.0031 - val_loss: 60.2773\n"
          ]
        },
        {
          "output_type": "stream",
          "name": "stderr",
          "text": [
            "WARNING:absl:You are saving your model as an HDF5 file via `model.save()` or `keras.saving.save_model(model)`. This file format is considered legacy. We recommend using instead the native Keras format, e.g. `model.save('my_model.keras')` or `keras.saving.save_model(model, 'my_model.keras')`. \n"
          ]
        },
        {
          "output_type": "display_data",
          "data": {
            "text/plain": [
              "<Figure size 640x480 with 1 Axes>"
            ],
            "image/png": "[encoded data removed]"
          },
          "metadata": {}
        }
      ],
      "source": [
        "# 1. IMPORT LIBRARY\n",
        "import os\n",
        "import zipfile\n",
        "import numpy as np\n",
        "import cv2\n",
        "import matplotlib.pyplot as plt\n",
        "from keras.models import Model, load_model\n",
        "from keras.layers import Input, Conv2D, MaxPooling2D, Flatten, Dense\n",
        "\n",
        "# Define the path where the zip file was extracted\n",
        "# Based on previous code, the zip file was extracted to /content/ and created a 'Burung' folder\n",
        "extract_path = \"/content/Burung\"\n",
        "path_train = os.path.join(extract_path, \"train\") # Correctly define path_train\n",
        "\n",
        "# 3. BACA LABEL KELAS secara otomatis\n",
        "LabelKelas = sorted([d for d in os.listdir(path_train) if os.path.isdir(os.path.join(path_train, d))])\n",
        "print(\"Label kelas:\", LabelKelas)\n",
        "\n",
        "# 4. FUNGSI LOAD DATASET\n",
        "def LoadCitraTraining(sDir, LabelKelas):\n",
        "    JumlahKelas = len(LabelKelas)\n",
        "    TargetKelas = np.eye(JumlahKelas)\n",
        "    X, T = [], []\n",
        "\n",
        "    for i, label in enumerate(LabelKelas):\n",
        "        DirKelas = os.path.join(sDir, label)\n",
        "        files = os.listdir(DirKelas)\n",
        "\n",
        "        for f in files:\n",
        "            if f.lower().endswith(('.jpg', '.jpeg', '.png')):\n",
        "                path = os.path.join(DirKelas, f)\n",
        "                img = np.double(cv2.imread(path, 1))\n",
        "                img = cv2.resize(img, (128, 128))\n",
        "                img = img / 255.0\n",
        "                img = img.astype('float32')\n",
        "                X.append(img)\n",
        "                T.append(TargetKelas[i])\n",
        "\n",
        "    X = np.array(X).astype('float32')\n",
        "    T = np.array(T).astype('float32')\n",
        "    return X, T\n",
        "\n",
        "# 5. FUNGSI MODEL CNN\n",
        "def ModelDeepLearningCNN(JumlahKelas):\n",
        "    input_img = Input(shape=(128, 128, 3))\n",
        "    x = Conv2D(32, (3, 3), activation='relu', padding='same')(input_img)\n",
        "    x = MaxPooling2D((2, 2), padding='same')(x)\n",
        "    x = Conv2D(32, (3, 3), activation='relu', padding='same')(x)\n",
        "    x = MaxPooling2D((2, 2), padding='same')(x)\n",
        "    x = Conv2D(32, (3, 3), activation='relu', padding='same')(x)\n",
        "    x = Flatten()(x)\n",
        "    x = Dense(100, activation='relu')(x)\n",
        "    x = Dense(100, activation='relu')(x)\n",
        "    x = Dense(JumlahKelas, activation='softmax')(x)\n",
        "\n",
        "    model = Model(input_img, x)\n",
        "    model.compile(loss='categorical_crossentropy', optimizer='adam', metrics=['accuracy'])\n",
        "    return model\n",
        "\n",
        "# 6. FUNGSI TRAINING\n",
        "def TrainingCNN(JumlahEpoh, DirektoriDataSet, LabelKelas, NamaFileBobot='model_burung.h5'):\n",
        "    X, D = LoadCitraTraining(DirektoriDataSet, LabelKelas)\n",
        "    model = ModelDeepLearningCNN(len(LabelKelas))\n",
        "    history = model.fit(X, D, epochs=JumlahEpoh, shuffle=True, validation_split=0.3)\n",
        "    model.save(NamaFileBobot)\n",
        "    return model, history\n",
        "\n",
        "# 7. PARAMETER TRAINING\n",
        "JumlahEpoh = 30\n",
        "FileBobot = \"model_burung.h5\"\n",
        "# Pass path_train instead of extract_path\n",
        "ModelCNN, history = TrainingCNN(JumlahEpoh, path_train, LabelKelas, FileBobot)\n",
        "\n",
        "# 8. GRAFIK AKURASI & LOSS\n",
        "plt.plot(history.history['loss'])\n",
        "plt.plot(history.history['accuracy'])\n",
        "plt.title('Model Loss & Accuracy')\n",
        "plt.ylabel('Loss / Accuracy')\n",
        "plt.xlabel('Epoch')\n",
        "plt.legend(['Loss', 'Accuracy'], loc='upper left')\n",
        "plt.show()"
      ]
    },
    {
      "cell_type": "code",
      "execution_count": null,
      "metadata": {
        "colab": {
          "base_uri": "https://localhost:8080/"
        },
        "id": "sUUOeii0jfCj",
        "outputId": "abcd8946-bb43-4ff7-e767-e8e3ed0145ae"
      },
      "outputs": [
        {
          "output_type": "stream",
          "name": "stdout",
          "text": [
            "Disconnecting from previous connection first...\n",
            "Connecting to wss://anvil.works/uplink\n",
            "Anvil websocket closed (code 1000, reason=b'')\n",
            "Anvil websocket open\n",
            "Fatal error from Anvil server: Incorrect uplink key\n",
            "Anvil websocket closed (code 1000, reason=b'')\n"
          ]
        },
        {
          "output_type": "stream",
          "name": "stderr",
          "text": [
            "WARNING:absl:Compiled the loaded model, but the compiled metrics have yet to be built. `model.compile_metrics` will be empty until you train or evaluate the model.\n"
          ]
        },
        {
          "output_type": "stream",
          "name": "stdout",
          "text": [
            "Connecting to wss://anvil.works/uplink\n",
            "Anvil websocket open\n",
            "Fatal error from Anvil server: Incorrect uplink key\n",
            "Anvil websocket closed (code 1000, reason=b'')\n",
            "Server dihentikan.\n"
          ]
        }
      ],
      "source": [
        "from tensorflow.keras.models import load_model\n",
        "from tensorflow.keras.preprocessing import image\n",
        "\n",
        "anvil.server.connect(\"server_NOGXYZB66UGV6G2V6B4XFDIG-LPIJDTRSJ4NRVAZI\")\n",
        "\n",
        "model = load_model(\"model_burung.h5\")\n",
        "\n",
        "def klasifikasi_gambar(image_path, model, LabelKelas):\n",
        "    img = cv2.imread(image_path)\n",
        "    img = cv2.resize(img, (128, 128))\n",
        "    img = img.astype(\"float32\") / 255.0\n",
        "    img = np.expand_dims(img, axis=0)\n",
        "    pred = model.predict(img)\n",
        "    if pred.max() > 0.5:\n",
        "        idx = np.argmax(pred)\n",
        "        return LabelKelas[idx]\n",
        "    return \"Tidak diketahui\"\n",
        "\n",
        "@anvil.server.callable\n",
        "def predict_from_upload(file):\n",
        "    # Simpan file ke disk\n",
        "    with open(\"temp.jpg\", \"wb\") as f:\n",
        "        f.write(file.get_bytes())\n",
        "\n",
        "    # Baca gambar, proses, prediksi\n",
        "    img = cv2.imread(\"temp.jpg\")\n",
        "    img = cv2.resize(img, (128, 128))\n",
        "    img = img.astype(\"float32\") / 255.0\n",
        "    img = np.expand_dims(img, axis=0)\n",
        "\n",
        "    # Prediksi dengan model\n",
        "    pred = ModelCNN.predict(img)\n",
        "\n",
        "    if pred.max() > 0.5:\n",
        "        idx = np.argmax(pred)\n",
        "        return LabelKelas[idx]  # Ini adalah nama burung\n",
        "    else:\n",
        "        return \"Tidak dikenali\"\n",
        "\n",
        "try:\n",
        "    anvil.server.wait_forever()\n",
        "except KeyboardInterrupt:\n",
        "    print(\"Server dihentikan.\")"
      ]
    },
    {
      "cell_type": "code",
      "execution_count": null,
      "metadata": {
        "colab": {
          "base_uri": "https://localhost:8080/"
        },
        "id": "axhuPN65rEsy",
        "outputId": "e6cb5d60-5970-439c-861d-0958380e2817"
      },
      "outputs": [
        {
          "output_type": "stream",
          "name": "stdout",
          "text": [
            "Mounted at /content/drive\n"
          ]
        }
      ],
      "source": [
        "from google.colab import drive\n",
        "drive.mount('/content/drive')"
      ]
    }
  ],
  "metadata": {
    "accelerator": "GPU",
    "colab": {
      "gpuType": "T4",
      "provenance": [],
      "toc_visible": true
    },
    "kernelspec": {
      "display_name": "Python 3",
      "name": "python3"
    },
    "language_info": {
      "name": "python"
    }
  },
  "nbformat": 4,
  "nbformat_minor": 0
}